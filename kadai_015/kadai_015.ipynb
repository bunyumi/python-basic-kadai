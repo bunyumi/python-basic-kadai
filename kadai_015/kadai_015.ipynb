{
  "nbformat": 4,
  "nbformat_minor": 0,
  "metadata": {
    "colab": {
      "provenance": []
    },
    "kernelspec": {
      "name": "python3",
      "display_name": "Python 3"
    },
    "language_info": {
      "name": "python"
    }
  },
  "cells": [
    {
      "cell_type": "code",
      "execution_count": 9,
      "metadata": {
        "colab": {
          "base_uri": "https://localhost:8080/"
        },
        "id": "T5Fa-45xyhmF",
        "outputId": "3465a1aa-e9f7-4bb6-9a8f-47d7a0fb8aa9"
      },
      "outputs": [
        {
          "output_type": "stream",
          "name": "stdout",
          "text": [
            "名前: {self.name}, 年齢: {self.age}\n"
          ]
        }
      ],
      "source": [
        "class Human:\n",
        "  def __init__(self, name, age):\n",
        "    self.name = name\n",
        "    self.age = age\n",
        "  def printinfo(self):\n",
        "    print(\"名前: {self.name}, 年齢: {self.age}\")\n",
        "\n",
        "human1 = Human(\"太郎\", \"20\")\n",
        "\n",
        "human1.printinfo()"
      ]
    }
  ]
}