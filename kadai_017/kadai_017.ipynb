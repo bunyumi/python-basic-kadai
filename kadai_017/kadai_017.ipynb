{
  "nbformat": 4,
  "nbformat_minor": 0,
  "metadata": {
    "colab": {
      "provenance": []
    },
    "kernelspec": {
      "name": "python3",
      "display_name": "Python 3"
    },
    "language_info": {
      "name": "python"
    }
  },
  "cells": [
    {
      "cell_type": "code",
      "execution_count": 5,
      "metadata": {
        "colab": {
          "base_uri": "https://localhost:8080/"
        },
        "id": "8iulQvz4076S",
        "outputId": "e453b80a-9fca-4d86-810a-c724f3ee4fe8"
      },
      "outputs": [
        {
          "output_type": "stream",
          "name": "stdout",
          "text": [
            "{name}は大人です。\n",
            "{name}は大人です。\n",
            "{name}は大人ではありません。\n"
          ]
        }
      ],
      "source": [
        "class Human:\n",
        "  def __init__(self, name, age):\n",
        "    self.name = name\n",
        "    self.age = age\n",
        "\n",
        "  def check_adult(self):\n",
        "    if self.age >= 20:\n",
        "      print(\"{name}は大人です。\")\n",
        "    else:\n",
        "      print(\"{name}は大人ではありません。\")\n",
        "\n",
        "\n",
        "humans = [\n",
        "    Human(\"太郎\", 25),\n",
        "    Human(\"次郎\", 30),\n",
        "    Human(\"三郎\", 17),\n",
        "]\n",
        "\n",
        "\n",
        "for human in humans:\n",
        "  human.check_adult()"
      ]
    }
  ]
}