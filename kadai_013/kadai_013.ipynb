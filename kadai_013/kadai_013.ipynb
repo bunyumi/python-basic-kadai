{
  "nbformat": 4,
  "nbformat_minor": 0,
  "metadata": {
    "colab": {
      "provenance": []
    },
    "kernelspec": {
      "name": "python3",
      "display_name": "Python 3"
    },
    "language_info": {
      "name": "python"
    }
  },
  "cells": [
    {
      "cell_type": "code",
      "execution_count": 2,
      "metadata": {
        "colab": {
          "base_uri": "https://localhost:8080/"
        },
        "id": "mhTFarTTuKhS",
        "outputId": "8f17aa21-d31d-43c5-cf99-9cbc3dfb8454"
      },
      "outputs": [
        {
          "output_type": "stream",
          "name": "stdout",
          "text": [
            "消費税込みの合計金額は: {total} 円\n",
            "消費税込みの合計金額は: {total} 円\n"
          ]
        }
      ],
      "source": [
        "def calculate_total_cost(price, tax_rate=0.1):\n",
        "    total_cost = price * (1 + tax_rate)\n",
        "    return total_cost\n",
        "\n",
        "product_price = 1000\n",
        "total = calculate_total_cost(product_price)\n",
        "print(\"消費税込みの合計金額は: {total} 円\")\n",
        "\n",
        "custom_tax_rate = 0.08\n",
        "total = calculate_total_cost(product_price, custom_tax_rate)\n",
        "print(\"消費税込みの合計金額は: {total} 円\")"
      ]
    }
  ]
}