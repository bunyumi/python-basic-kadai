{
  "nbformat": 4,
  "nbformat_minor": 0,
  "metadata": {
    "colab": {
      "provenance": []
    },
    "kernelspec": {
      "name": "python3",
      "display_name": "Python 3"
    },
    "language_info": {
      "name": "python"
    }
  },
  "cells": [
    {
      "cell_type": "code",
      "execution_count": 2,
      "metadata": {
        "colab": {
          "base_uri": "https://localhost:8080/"
        },
        "id": "tWJDLo-kpB5k",
        "outputId": "7ba4f58e-4113-4ee3-dc17-9f402dbbadc5"
      },
      "outputs": [
        {
          "output_type": "stream",
          "name": "stdout",
          "text": [
            "FizzBuzz\n"
          ]
        }
      ],
      "source": [
        "def fizz_buzz(var):\n",
        "  if var % 3 == 0 and var % 5 == 0:\n",
        "    print(\"FizzBuzz\")\n",
        "  elif var % 3 == 0:\n",
        "    print(\"Fizz\")\n",
        "  elif var % 5 == 0:\n",
        "    print(\"Buzz\")\n",
        "  else:\n",
        "    print(var)\n",
        "\n",
        "#例\n",
        "var = 15\n",
        "fizz_buzz(var)"
      ]
    }
  ]
}