{
  "nbformat": 4,
  "nbformat_minor": 0,
  "metadata": {
    "colab": {
      "provenance": []
    },
    "kernelspec": {
      "name": "python3",
      "display_name": "Python 3"
    },
    "language_info": {
      "name": "python"
    }
  },
  "cells": [
    {
      "cell_type": "code",
      "source": [
        "array = [\n",
        "    \"月曜日は晴れです\",\n",
        "    \"火曜日は雨です\",\n",
        "    \"水曜日は晴れです\",\n",
        "    \"木曜日は晴れです\",\n",
        "    \"金曜日は曇りです\",\n",
        "    \"土曜日は曇りのち雨です\",\n",
        "    \"日曜日は雷雨です\"\n",
        "]\n",
        "\n",
        "wednesday_array = array[2]\n",
        "print(\"List (array) - 水曜日の天気予報:\", wednesday_array)\n",
        "\n",
        "dictionary = {\"wed\": \"水曜日は晴れです\"}\n",
        "\n",
        "wednesday_dict = dictionary[\"wed\"]\n",
        "print(\"Dictionary - 水曜日の天気予報:\", wednesday_dict)"
      ],
      "metadata": {
        "colab": {
          "base_uri": "https://localhost:8080/"
        },
        "id": "ED31d4B8mQFd",
        "outputId": "9145f3d5-5810-4295-ece0-0c9536817ff6"
      },
      "execution_count": 2,
      "outputs": [
        {
          "output_type": "stream",
          "name": "stdout",
          "text": [
            "List (array) - 水曜日の天気予報: 水曜日は晴れです\n",
            "Dictionary - 水曜日の天気予報: 水曜日は晴れです\n"
          ]
        }
      ]
    }
  ]
}